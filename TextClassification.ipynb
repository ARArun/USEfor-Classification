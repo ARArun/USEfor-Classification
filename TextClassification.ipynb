{
 "cells": [
  {
   "cell_type": "markdown",
   "metadata": {},
   "source": [
    "## How Does Ali Wongs Stand Out?"
   ]
  },
  {
   "cell_type": "markdown",
   "metadata": {},
   "source": [
    "- # Data Gathering"
   ]
  },
  {
   "cell_type": "code",
   "execution_count": 1,
   "metadata": {},
   "outputs": [],
   "source": [
    "import pandas as pd\n",
    "import numpy as np\n",
    "import string\n",
    "import re\n",
    "import nltk"
   ]
  },
  {
   "cell_type": "code",
   "execution_count": 2,
   "metadata": {},
   "outputs": [],
   "source": [
    "from nltk.corpus import stopwords\n",
    "SW = set(stopwords.words('english'))"
   ]
  },
  {
   "cell_type": "code",
   "execution_count": 3,
   "metadata": {},
   "outputs": [
    {
     "name": "stdout",
     "output_type": "stream",
     "text": [
      "{'y', 'himself', 'after', 'they', \"it's\", 'above', 'do', 'some', 'you', 'very', 'my', 'once', 'for', 'into', \"that'll\", \"don't\", 'hers', 'down', 'its', 'few', 'where', 'ma', 'was', 'did', 'am', 'm', 'now', 'how', 'it', 'further', \"shouldn't\", 'under', 'yourselves', 'hadn', 'no', \"haven't\", 'ain', 'to', 'any', 'been', 'with', 'an', \"you'll\", 'what', 'theirs', \"you'd\", 'herself', 'them', \"aren't\", \"mustn't\", 'doesn', 'just', 'by', 'him', 'will', 'is', 'doing', 'all', \"didn't\", 'own', 'below', 'wouldn', 'of', 'who', 'haven', 'are', 'have', 'should', 'out', 'shan', 'until', 't', 'there', 'during', 'because', 's', 'the', \"mightn't\", 'o', 'we', 'this', 'were', 'won', \"needn't\", 've', 'can', 'too', 'mightn', 'only', 'itself', 'themselves', \"should've\", 'me', \"doesn't\", 'that', \"you've\", 'didn', 'these', 'and', 'd', 'such', 'being', 'same', 'both', 'their', 'shouldn', 'here', 'but', \"weren't\", 'yours', 'those', 'hasn', 'be', 'in', 'from', \"shan't\", \"couldn't\", 'i', 'when', 'off', 'not', 'a', 'why', 'up', 'nor', 'other', 'again', 'your', 'so', 'our', 'her', 'aren', 'whom', 'll', 're', 'his', 'does', 'myself', 'or', 'mustn', 'couldn', 'as', 'while', 'at', 'weren', 'through', 'has', 'before', 'each', 'more', 'if', 'needn', 'ours', 'ourselves', 'he', 'between', 'had', 'over', 'having', 'isn', \"won't\", 'yourself', \"hadn't\", 'about', \"isn't\", \"wasn't\", 'she', 'which', 'then', 'against', \"wouldn't\", 'most', \"she's\", \"you're\", 'than', 'on', 'don', \"hasn't\", 'wasn'}\n"
     ]
    }
   ],
   "source": [
    "print(SW)"
   ]
  },
  {
   "cell_type": "code",
   "execution_count": 4,
   "metadata": {},
   "outputs": [
    {
     "name": "stdout",
     "output_type": "stream",
     "text": [
      "    Cat                                                SMS\n",
      "0   ham  Go until jurong point, crazy.. Available only ...\n",
      "1   ham                      Ok lar... Joking wif u oni...\n",
      "2  spam  Free entry in 2 a wkly comp to win FA Cup fina...\n",
      "3   ham  U dun say so early hor... U c already then say...\n",
      "4   ham  Nah I don't think he goes to usf, he lives aro...\n"
     ]
    }
   ],
   "source": [
    "col = ['Cat', 'SMS']\n",
    "data = pd.read_csv(r'../Data/SMSSpamCollection', sep='\\t', header=None)\n",
    "data.columns = col\n",
    "print(data.head())"
   ]
  },
  {
   "cell_type": "code",
   "execution_count": 5,
   "metadata": {},
   "outputs": [
    {
     "name": "stdout",
     "output_type": "stream",
     "text": [
      "   Cat                                                SMS\n",
      "0    0  Go until jurong point, crazy.. Available only ...\n",
      "1    0                      Ok lar... Joking wif u oni...\n",
      "2    1  Free entry in 2 a wkly comp to win FA Cup fina...\n",
      "3    0  U dun say so early hor... U c already then say...\n",
      "4    0  Nah I don't think he goes to usf, he lives aro...\n"
     ]
    }
   ],
   "source": [
    "from sklearn.preprocessing import LabelEncoder\n",
    "Le = LabelEncoder()\n",
    "data['Cat'] = Le.fit_transform(data['Cat']) \n",
    "\n",
    "print(data.head())"
   ]
  },
  {
   "cell_type": "code",
   "execution_count": 6,
   "metadata": {},
   "outputs": [
    {
     "data": {
      "text/plain": [
       "'!\"#$%&\\'()*+,-./:;<=>?@[\\\\]^_`{|}~'"
      ]
     },
     "execution_count": 6,
     "metadata": {},
     "output_type": "execute_result"
    }
   ],
   "source": [
    "string.punctuation"
   ]
  },
  {
   "cell_type": "code",
   "execution_count": 7,
   "metadata": {},
   "outputs": [
    {
     "data": {
      "text/plain": [
       "'arun  is  useless'"
      ]
     },
     "execution_count": 7,
     "metadata": {},
     "output_type": "execute_result"
    }
   ],
   "source": [
    "def clean(text):\n",
    "    text = text.lower()\n",
    "    no_punct = [c for c in text if c not in string.punctuation]\n",
    "    text = ''.join(no_punct)\n",
    "    return text\n",
    "clean('Arun : is ; useless')"
   ]
  },
  {
   "cell_type": "code",
   "execution_count": 8,
   "metadata": {},
   "outputs": [
    {
     "data": {
      "text/html": [
       "<div>\n",
       "<style scoped>\n",
       "    .dataframe tbody tr th:only-of-type {\n",
       "        vertical-align: middle;\n",
       "    }\n",
       "\n",
       "    .dataframe tbody tr th {\n",
       "        vertical-align: top;\n",
       "    }\n",
       "\n",
       "    .dataframe thead th {\n",
       "        text-align: right;\n",
       "    }\n",
       "</style>\n",
       "<table border=\"1\" class=\"dataframe\">\n",
       "  <thead>\n",
       "    <tr style=\"text-align: right;\">\n",
       "      <th></th>\n",
       "      <th>Cat</th>\n",
       "      <th>SMS</th>\n",
       "    </tr>\n",
       "  </thead>\n",
       "  <tbody>\n",
       "    <tr>\n",
       "      <th>0</th>\n",
       "      <td>0</td>\n",
       "      <td>go until jurong point crazy available only in ...</td>\n",
       "    </tr>\n",
       "    <tr>\n",
       "      <th>1</th>\n",
       "      <td>0</td>\n",
       "      <td>ok lar joking wif u oni</td>\n",
       "    </tr>\n",
       "    <tr>\n",
       "      <th>2</th>\n",
       "      <td>1</td>\n",
       "      <td>free entry in 2 a wkly comp to win fa cup fina...</td>\n",
       "    </tr>\n",
       "    <tr>\n",
       "      <th>3</th>\n",
       "      <td>0</td>\n",
       "      <td>u dun say so early hor u c already then say</td>\n",
       "    </tr>\n",
       "    <tr>\n",
       "      <th>4</th>\n",
       "      <td>0</td>\n",
       "      <td>nah i dont think he goes to usf he lives aroun...</td>\n",
       "    </tr>\n",
       "  </tbody>\n",
       "</table>\n",
       "</div>"
      ],
      "text/plain": [
       "   Cat                                                SMS\n",
       "0    0  go until jurong point crazy available only in ...\n",
       "1    0                            ok lar joking wif u oni\n",
       "2    1  free entry in 2 a wkly comp to win fa cup fina...\n",
       "3    0        u dun say so early hor u c already then say\n",
       "4    0  nah i dont think he goes to usf he lives aroun..."
      ]
     },
     "execution_count": 8,
     "metadata": {},
     "output_type": "execute_result"
    }
   ],
   "source": [
    "data['SMS'] = data['SMS'].apply(lambda x: clean(x))\n",
    "data.head()"
   ]
  },
  {
   "cell_type": "code",
   "execution_count": null,
   "metadata": {},
   "outputs": [],
   "source": []
  }
 ],
 "metadata": {
  "kernelspec": {
   "display_name": "Python 3",
   "language": "python",
   "name": "python3"
  },
  "language_info": {
   "codemirror_mode": {
    "name": "ipython",
    "version": 3
   },
   "file_extension": ".py",
   "mimetype": "text/x-python",
   "name": "python",
   "nbconvert_exporter": "python",
   "pygments_lexer": "ipython3",
   "version": "3.6.8"
  }
 },
 "nbformat": 4,
 "nbformat_minor": 4
}
